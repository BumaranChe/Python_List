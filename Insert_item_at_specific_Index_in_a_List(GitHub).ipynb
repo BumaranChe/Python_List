{
  "nbformat": 4,
  "nbformat_minor": 0,
  "metadata": {
    "colab": {
      "provenance": [],
      "authorship_tag": "ABX9TyNdz3c/kTU606cSn3hM4x/d",
      "include_colab_link": true
    },
    "kernelspec": {
      "name": "python3",
      "display_name": "Python 3"
    },
    "language_info": {
      "name": "python"
    }
  },
  "cells": [
    {
      "cell_type": "markdown",
      "metadata": {
        "id": "view-in-github",
        "colab_type": "text"
      },
      "source": [
        "<a href=\"https://colab.research.google.com/github/BumaranChe/Python_List/blob/main/Insert_item_at_specific_Index_in_a_List(GitHub).ipynb\" target=\"_parent\"><img src=\"https://colab.research.google.com/assets/colab-badge.svg\" alt=\"Open In Colab\"/></a>"
      ]
    },
    {
      "cell_type": "markdown",
      "source": [
        "# **Insert Item at Specific Index in a List**\n",
        "\n",
        "A program that creates a list with three items and asks the user to enter a new item and an index"
      ],
      "metadata": {
        "id": "uZAt-QOIoEG3"
      }
    },
    {
      "cell_type": "code",
      "execution_count": 3,
      "metadata": {
        "colab": {
          "base_uri": "https://localhost:8080/"
        },
        "id": "QGwE-E6KmXfz",
        "outputId": "47bdae75-681f-4c9a-e472-a55344316aa5"
      },
      "outputs": [
        {
          "output_type": "stream",
          "name": "stdout",
          "text": [
            "Enter a new item to insert: mango\n",
            "Enter the index to insert the new item at: 3\n",
            "Updated list: ['apple', 'banana', 'cherry', 'mango']\n",
            "Updated list: ['apple', 'banana', 'cherry', 'mango']\n",
            "Updated list: ['apple', 'banana', 'cherry', 'mango']\n"
          ]
        }
      ],
      "source": [
        "items = [\"apple\", \"banana\", \"cherry\"]\n",
        "input1=input(\"Enter a new item to insert: \")\n",
        "input2=input(\"Enter the index to insert the new item at: \")\n",
        "insert=items.insert(int(input2),input1)\n",
        "#print(insert)\n",
        "print(\"Updated list:\",items) # print output using comma (,)\n",
        "print(\"Updated list: \"+str(items)) # Converting the numbers to strings and using \"+\", cannot concatenate list to string, must change list2 --> str(list2)\n",
        "print(f\"Updated list: {items}\") ## f strings"
      ]
    }
  ]
}